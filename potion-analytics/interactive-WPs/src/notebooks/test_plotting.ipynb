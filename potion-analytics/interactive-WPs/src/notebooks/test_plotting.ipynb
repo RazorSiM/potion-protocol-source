{
 "cells": [
  {
   "cell_type": "code",
   "execution_count": null,
   "id": "211d1f74",
   "metadata": {},
   "outputs": [],
   "source": [
    "import os\n",
    "import numpy as np\n",
    "import pandas as pd\n",
    "import plotly.graph_objects as go\n",
    "from lib import plotting\n",
    "import lib.helpers as hlp\n",
    "import lib.distributions as dst\n",
    "import lib.backtest as backtest\n",
    "import lib.kelly as kelly"
   ]
  },
  {
   "cell_type": "code",
   "execution_count": null,
   "id": "be2e393e",
   "metadata": {},
   "outputs": [],
   "source": [
    "historical_df = pd.read_csv(os.path.join(hlp.INPUT_DATA_DIR, \"historical_source.csv\"), sep=',')\n",
    "price_sequence = historical_df['EOS'].dropna()\n",
    "returns_sequence = price_sequence.pct_change()[1:]\n",
    "n_bins = 'auto'\n",
    "returns_histogram_df = dst.get_returns_histogram_from_returns_sequence(returns_sequence, n_bins=n_bins)\n",
    "option_type = 'call'"
   ]
  },
  {
   "cell_type": "code",
   "execution_count": null,
   "id": "dca4e5d0",
   "metadata": {},
   "outputs": [],
   "source": [
    "price_sequence.plot()"
   ]
  },
  {
   "cell_type": "code",
   "execution_count": null,
   "id": "3999c2f7",
   "metadata": {},
   "outputs": [],
   "source": [
    "returns_sequence.describe()"
   ]
  },
  {
   "cell_type": "code",
   "execution_count": null,
   "id": "a1caa8be",
   "metadata": {},
   "outputs": [],
   "source": [
    "strike = 1.1\n",
    "number_of_utils = 10\n",
    "fig1, fig2 = plotting.plot_all_kelly_curves_with_optimal_bet(\n",
    "    returns_sequence, strike, number_of_utils, option_type=option_type\n",
    ")\n",
    "fig1.show()\n",
    "fig2.show()"
   ]
  },
  {
   "cell_type": "code",
   "execution_count": null,
   "id": "0e3199cc",
   "metadata": {},
   "outputs": [],
   "source": [
    "number_of_paths = 10\n",
    "path_length = 1000\n",
    "number_of_bins = np.linspace(-1, 1, 1000)\n",
    "plotting.visualize_returns_histogram_vs_random_path_consistency(\n",
    "    price_sequence, number_of_paths, path_length, number_of_bins=number_of_bins\n",
    ")"
   ]
  },
  {
   "cell_type": "code",
   "execution_count": null,
   "id": "afbc16e6",
   "metadata": {},
   "outputs": [],
   "source": []
  },
  {
   "cell_type": "code",
   "execution_count": null,
   "id": "786805f9",
   "metadata": {},
   "outputs": [],
   "source": []
  }
 ],
 "metadata": {
  "interpreter": {
   "hash": "4fc1c182ce7d597458bce400100f81cb44040a71d8cfa89d33099548ca0316ad"
  },
  "kernelspec": {
   "display_name": "Python 3 (ipykernel)",
   "language": "python",
   "name": "python3"
  },
  "language_info": {
   "codemirror_mode": {
    "name": "ipython",
    "version": 3
   },
   "file_extension": ".py",
   "mimetype": "text/x-python",
   "name": "python",
   "nbconvert_exporter": "python",
   "pygments_lexer": "ipython3",
   "version": "3.8.10"
  }
 },
 "nbformat": 4,
 "nbformat_minor": 5
}
