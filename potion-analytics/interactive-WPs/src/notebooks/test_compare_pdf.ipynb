{
 "cells": [
  {
   "cell_type": "code",
   "execution_count": null,
   "id": "af7845d6",
   "metadata": {},
   "outputs": [],
   "source": [
    "import numpy as np\n",
    "import pandas as pd\n",
    "import plotly.graph_objects as go\n",
    "import lib.helpers as hlp\n",
    "import lib.distributions as dst"
   ]
  },
  {
   "cell_type": "code",
   "execution_count": null,
   "id": "7fee761e",
   "metadata": {},
   "outputs": [],
   "source": [
    "# all settings\n",
    "historical_df = hlp.get_historical_prices_df()\n",
    "bitcoin_price_sequence = historical_df['Bitcoin']\n",
    "bitcoin_returns_sequence = bitcoin_price_sequence.pct_change()[1:]\n",
    "bitcoin_returns_std = bitcoin_returns_sequence.std()\n",
    "n_bins = np.linspace(-1, 1, 1000)"
   ]
  },
  {
   "cell_type": "code",
   "execution_count": null,
   "id": "afaa3972",
   "metadata": {},
   "outputs": [],
   "source": [
    "# visualize pdfs for all instruments\n",
    "fig = go.Figure()\n",
    "for col in historical_df:\n",
    "    if 'Unna' in col or 'Master' in col:\n",
    "        continue\n",
    "    price_sequence = historical_df[col]\n",
    "    returns_sequence = price_sequence.pct_change()[1:]\n",
    "    returns_histogram = dst.get_returns_histogram_from_returns_sequence(returns_sequence, n_bins=n_bins)\n",
    "    returns_histogram['return'] = returns_histogram['return']/bitcoin_returns_std\n",
    "    # add returns histogram from each price path to the figure\n",
    "    \n",
    "    \n",
    "    fig.add_trace(\n",
    "        go.Scatter(\n",
    "            x=returns_histogram['return'],\n",
    "            y=returns_histogram['freq'].values,\n",
    "            mode=\"lines\",\n",
    "            name=col\n",
    "        )\n",
    "    )\n",
    "fig.show()"
   ]
  },
  {
   "cell_type": "code",
   "execution_count": null,
   "id": "69f136c2",
   "metadata": {},
   "outputs": [],
   "source": []
  }
 ],
 "metadata": {
  "interpreter": {
   "hash": "e7370f93d1d0cde622a1f8e1c04877d8463912d04d973331ad4851f04de6915a"
  },
  "kernelspec": {
   "display_name": "routing-simulator-venv",
   "language": "python",
   "name": "python3"
  },
  "language_info": {
   "codemirror_mode": {
    "name": "ipython",
    "version": 3
   },
   "file_extension": ".py",
   "mimetype": "text/x-python",
   "name": "python",
   "nbconvert_exporter": "python",
   "pygments_lexer": "ipython3",
   "version": "3.8.10"
  }
 },
 "nbformat": 4,
 "nbformat_minor": 5
}
