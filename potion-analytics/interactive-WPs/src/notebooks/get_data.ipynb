{
 "cells": [
  {
   "cell_type": "code",
   "execution_count": null,
   "metadata": {},
   "outputs": [],
   "source": [
    "import datetime as dt\n",
    "import pandas as pd\n",
    "import yfinance as yf\n",
    "# stbt is used only here, so it's not in requirements.txt\n",
    "from stbt.download_ohlc.cryptocurrency import get_ohlc_cryptocompare, correct_ohlc_df\n",
    "import lib.helpers as hlp"
   ]
  },
  {
   "cell_type": "code",
   "execution_count": null,
   "metadata": {},
   "outputs": [],
   "source": [
    "historical_df = hlp.get_historical_prices_df()"
   ]
  },
  {
   "cell_type": "code",
   "execution_count": null,
   "metadata": {},
   "outputs": [],
   "source": [
    "# historical_df['Tailed_Bitcoin'] = historical_df['Bitcoin']\n",
    "# historical_df.at[dt.datetime(2017, 1, 1), 'Tailed_Bitcoin'] = \n",
    "# historical_df.sort_index(inplace=True)\n",
    "# historical_df = historical_df.iloc[1:]\n",
    "historical_df.at[dt.datetime(2021, 11, 1), 'Tailed_Bitcoin'] = 0\n",
    "print(historical_df.tail(1))"
   ]
  },
  {
   "cell_type": "code",
   "execution_count": null,
   "metadata": {},
   "outputs": [],
   "source": [
    "historical_df = historical_df.reindex(sorted(historical_df.columns), axis=1)\n",
    "print(historical_df.columns)"
   ]
  },
  {
   "cell_type": "code",
   "execution_count": null,
   "metadata": {},
   "outputs": [],
   "source": [
    "historical_df.to_csv(f'{hlp.INPUT_DATA_DIR}/historical_source.csv')"
   ]
  },
  {
   "cell_type": "code",
   "execution_count": null,
   "metadata": {},
   "outputs": [],
   "source": [
    "instruments_list = [\n",
    "    {'name': 'Bitcoin', 'ticker': 'BTC/USDT'},\n",
    "    {'name': 'Litecoin', 'ticker': 'LTC/USDT'},\n",
    "    {'name': 'XRP', 'ticker': 'XRP/USDT'},\n",
    "    {'name': 'Dogecoin', 'ticker': 'DOGE/USDT'},\n",
    "    {'name': 'Monero', 'ticker': 'XMR/USDT'},\n",
    "    {'name': 'Stellar', 'ticker': 'XLM/USDT'},\n",
    "    {'name': 'NEM', 'ticker': 'XEM/USDT'},\n",
    "    {'name': 'Ethereum', 'ticker': 'ETH/USDT'},\n",
    "    {'name': 'IOTA', 'ticker': 'MIOTA/USDT'},\n",
    "    {'name': 'EOS', 'ticker': 'EOS/USDT'},\n",
    "    {'name': 'Binance Coin', 'ticker': 'BNB/USDT'},\n",
    "    {'name': 'TRON', 'ticker': 'TRX/USDT'},\n",
    "    {'name': 'Chainlink', 'ticker': 'LINK/USDT'},\n",
    "    {'name': 'Cardano', 'ticker': 'ADA/USDT'},\n",
    "    {'name': 'USD Coin', 'ticker': 'USDC/USDT'},\n",
    "    {'name': 'Crypto.com Coin', 'ticker': 'CRO/USDT'},\n",
    "    {'name': 'Cosmos', 'ticker': 'ATOM/USDT'},\n",
    "    {'name': 'Solana', 'ticker': 'SOL/USDT'},\n",
    "    {'name': 'Polkadot', 'ticker': 'DOT/USDT'},\n",
    "    {'name': 'Uniswap', 'ticker': 'UNI/USDT'},\n",
    "    {'name': 'Aave', 'ticker': 'AAVE/USDT'},\n",
    "]"
   ]
  },
  {
   "cell_type": "code",
   "execution_count": null,
   "metadata": {},
   "outputs": [],
   "source": [
    "# use stbt specifically for downloadi\n",
    "start_date = dt.datetime(2015, 3, 1, 0, 0, 0)\n",
    "end_date = dt.datetime(2021, 11, 1, 0, 0, 0)\n",
    "\n",
    "\n",
    "total_df = pd.DataFrame()\n",
    "\n",
    "for instruments_dict in instruments_list:\n",
    "    first_ticker, second_ticker = instruments_dict['ticker'].split('/')\n",
    "    print(f'Processing {instruments_dict}')\n",
    "    ohlc_df = get_ohlc_cryptocompare(first_ticker, second_ticker, start_date,\n",
    "                                     end_date=end_date, interval_key='day')\n",
    "    ohlc_df = correct_ohlc_df(ohlc_df)\n",
    "    ohlc_df = ohlc_df[['Close']]\n",
    "    ohlc_df.rename(columns={'Close': instruments_dict['name']}, inplace=True)\n",
    "    if total_df.empty:\n",
    "        total_df = ohlc_df\n",
    "    else:\n",
    "        total_df = total_df.merge(ohlc_df, how='left', on='Date')\n",
    "    \n",
    "total_df.index.names = ['date']\n"
   ]
  },
  {
   "cell_type": "code",
   "execution_count": null,
   "metadata": {},
   "outputs": [],
   "source": [
    "\n",
    "print(total_df)"
   ]
  },
  {
   "cell_type": "code",
   "execution_count": null,
   "metadata": {},
   "outputs": [],
   "source": [
    "total_filtered_df = total_df[total_df.index > dt.datetime(2017, 1, 1)]\n",
    "total_filtered_df = total_filtered_df.reindex(sorted(total_filtered_df.columns), axis=1)\n",
    "total_filtered_df.to_csv(f'{hlp.INPUT_DATA_DIR}/historical_source.csv')"
   ]
  },
  {
   "cell_type": "code",
   "execution_count": null,
   "metadata": {},
   "outputs": [],
   "source": []
  },
  {
   "cell_type": "code",
   "execution_count": null,
   "metadata": {},
   "outputs": [],
   "source": [
    "tickers_list = ['TSLA', 'SPY', 'EURUSD=x', 'USDTRY=X', 'MSCI', 'MSFT', '^N225', 'GC=F', 'BZ=F']"
   ]
  },
  {
   "cell_type": "code",
   "execution_count": null,
   "metadata": {},
   "outputs": [],
   "source": [
    "for ticker in tickers_list:\n",
    "    ohlc_df = yf.Ticker(ticker).history(period='5y')\n",
    "    ohlc_df = ohlc_df[['Close']]\n",
    "    ohlc_df.index.names = ['date']\n",
    "    ohlc_df.rename(columns={'Close': ticker}, inplace=True)\n",
    "    \n",
    "    total_df = total_df.merge(ohlc_df, how='left', on='date')\n",
    "    "
   ]
  },
  {
   "cell_type": "code",
   "execution_count": null,
   "metadata": {},
   "outputs": [],
   "source": []
  },
  {
   "cell_type": "code",
   "execution_count": null,
   "metadata": {},
   "outputs": [],
   "source": []
  }
 ],
 "metadata": {
  "interpreter": {
   "hash": "4fc1c182ce7d597458bce400100f81cb44040a71d8cfa89d33099548ca0316ad"
  },
  "kernelspec": {
   "display_name": "Python 3.8.10 64-bit ('.venv': poetry)",
   "language": "python",
   "name": "python3"
  },
  "language_info": {
   "codemirror_mode": {
    "name": "ipython",
    "version": 3
   },
   "file_extension": ".py",
   "mimetype": "text/x-python",
   "name": "python",
   "nbconvert_exporter": "python",
   "pygments_lexer": "ipython3",
   "version": "3.8.10"
  }
 },
 "nbformat": 4,
 "nbformat_minor": 2
}
